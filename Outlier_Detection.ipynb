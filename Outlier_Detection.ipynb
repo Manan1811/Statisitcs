{
  "nbformat": 4,
  "nbformat_minor": 0,
  "metadata": {
    "colab": {
      "name": "Outlier Detection.ipynb",
      "provenance": [],
      "collapsed_sections": [],
      "authorship_tag": "ABX9TyPwWES0y3TG5+WYGSGF52ZR",
      "include_colab_link": true
    },
    "kernelspec": {
      "name": "python3",
      "display_name": "Python 3"
    }
  },
  "cells": [
    {
      "cell_type": "markdown",
      "metadata": {
        "id": "view-in-github",
        "colab_type": "text"
      },
      "source": [
        "<a href=\"https://colab.research.google.com/github/Manan1811/Statisitcs/blob/master/Outlier_Detection.ipynb\" target=\"_parent\"><img src=\"https://colab.research.google.com/assets/colab-badge.svg\" alt=\"Open In Colab\"/></a>"
      ]
    },
    {
      "cell_type": "markdown",
      "metadata": {
        "id": "z_-bQgcjHd4O",
        "colab_type": "text"
      },
      "source": [
        "#What is an outlier?\n",
        "An outlier is a data point in a data set that is distant from all other observations. A data point that lies outside the overall distribution of the dataset.\n",
        "\n",
        "---\n",
        "\n",
        "\n",
        "#What are the criteria to identify an outlier?\n",
        "* Data point that falls outside of 1.5 times of an interquartile range above the 3rd quartile and below the 1st quartile\n",
        "* Data point that falls outside of 3 standard deviations. we can use a z score and if the z score falls outside of 2 standard deviation\n",
        "\n",
        "---\n",
        "\n",
        "\n",
        "#What is the reason for an outlier to exists in a dataset?\n",
        "* Variability in the data\n",
        "* An experimental measurement error\n",
        "\n",
        "---\n",
        "\n",
        "\n",
        "# What are the impacts of having outliers in a dataset?\n",
        "* It causes various problems during our statistical analysis\n",
        "* It may cause a significant impact on the mean and the standard deviation\n",
        "\n",
        "\n",
        "---\n",
        "\n",
        "\n",
        "# Various ways of finding the outlier.\n",
        "* Scatter plots\n",
        "* Box plot\n",
        "* Z-score\n",
        "* IQR (interquantile range)"
      ]
    },
    {
      "cell_type": "code",
      "metadata": {
        "id": "n2CWkYbkILDl",
        "colab_type": "code",
        "colab": {}
      },
      "source": [
        "import numpy as np\n",
        "import matplotlib.pyplot as plt\n",
        "%matplotlib inline\n",
        "dataset= [11,10,12,14,12,15,14,13,15,102,12,14,17,19,107, 10,13,12,14,12,108,12,11,14,13,15,10,15,12,10,14,13,15,10]"
      ],
      "execution_count": 1,
      "outputs": []
    },
    {
      "cell_type": "markdown",
      "metadata": {
        "id": "VBGH6-M1IhZA",
        "colab_type": "text"
      },
      "source": [
        "##Detecting outlier using Z score\n",
        "Formula for Z score = (Observation — Mean)/Standard Deviation\n",
        "\n",
        "z = (X — μ) / σ"
      ]
    },
    {
      "cell_type": "code",
      "metadata": {
        "id": "KPKnWGCpIekv",
        "colab_type": "code",
        "colab": {
          "base_uri": "https://localhost:8080/",
          "height": 34
        },
        "outputId": "e513ea68-9dc3-46ed-c559-2aca56fd678c"
      },
      "source": [
        "outliers=[]\n",
        "def detect_outliers(data):\n",
        "    \n",
        "    threshold=3\n",
        "    mean = np.mean(data)\n",
        "    std =np.std(data)\n",
        "    \n",
        "    \n",
        "    for i in data:\n",
        "        z_score= (i - mean)/std \n",
        "        if np.abs(z_score) > threshold:\n",
        "            outliers.append(i)\n",
        "    return outliers\n",
        "\n",
        "outlier_pt=detect_outliers(dataset)\n",
        "outlier_pt"
      ],
      "execution_count": 3,
      "outputs": [
        {
          "output_type": "execute_result",
          "data": {
            "text/plain": [
              "[102, 107, 108]"
            ]
          },
          "metadata": {
            "tags": []
          },
          "execution_count": 3
        }
      ]
    },
    {
      "cell_type": "markdown",
      "metadata": {
        "id": "dZXqftz3JA6h",
        "colab_type": "text"
      },
      "source": [
        "##InterQuantile Range\n",
        "25%- 75% values in a dataset\n",
        "\n",
        "###Steps\n",
        "1. Arrange the data in increasing order\n",
        "2. Calculate first(q1) and third quartile(q3)\n",
        "3. Find interquartile range (q3-q1)\n",
        "4. Find lower bound q1*1.5\n",
        "5. Find upper bound q3*1.5\n",
        "\n",
        "Anything that lies outside of lower and upper bound is an outlier"
      ]
    },
    {
      "cell_type": "code",
      "metadata": {
        "id": "AM6pQ9H5IxnR",
        "colab_type": "code",
        "colab": {
          "base_uri": "https://localhost:8080/",
          "height": 67
        },
        "outputId": "b0f2ec92-0f2e-48e6-bbaf-9508a78ee94e"
      },
      "source": [
        "print(sorted(dataset))\n",
        "print(\"========\")\n",
        "quantile1, quantile3= np.percentile(dataset,[25,75])\n",
        "print(quantile1,quantile3)"
      ],
      "execution_count": 4,
      "outputs": [
        {
          "output_type": "stream",
          "text": [
            "[10, 10, 10, 10, 10, 11, 11, 12, 12, 12, 12, 12, 12, 12, 13, 13, 13, 13, 14, 14, 14, 14, 14, 14, 15, 15, 15, 15, 15, 17, 19, 102, 107, 108]\n",
            "========\n",
            "12.0 15.0\n"
          ],
          "name": "stdout"
        }
      ]
    },
    {
      "cell_type": "code",
      "metadata": {
        "id": "37yfGhPaJchL",
        "colab_type": "code",
        "colab": {
          "base_uri": "https://localhost:8080/",
          "height": 67
        },
        "outputId": "72c76e86-7cf3-4674-fe5a-3e2b57729be5"
      },
      "source": [
        "iqr_value=quantile3-quantile1\n",
        "print(iqr_value)\n",
        "print(\"========\")\n",
        "lower_bound_val = quantile1 -(1.5 * iqr_value) \n",
        "upper_bound_val = quantile3 +(1.5 * iqr_value)\n",
        "print(lower_bound_val,upper_bound_val)"
      ],
      "execution_count": 6,
      "outputs": [
        {
          "output_type": "stream",
          "text": [
            "3.0\n",
            "========\n",
            "7.5 19.5\n"
          ],
          "name": "stdout"
        }
      ]
    },
    {
      "cell_type": "code",
      "metadata": {
        "id": "gsSodCzaKNob",
        "colab_type": "code",
        "colab": {}
      },
      "source": [
        ""
      ],
      "execution_count": null,
      "outputs": []
    }
  ]
}